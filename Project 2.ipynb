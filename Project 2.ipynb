{
 "cells": [
  {
   "cell_type": "markdown",
   "metadata": {
    "id": "a4hD2J-PNmCr"
   },
   "source": [
    "### OGTIP Oeson - Data Science Internship\n",
    "# Project 2"
   ]
  },
  {
   "cell_type": "markdown",
   "metadata": {
    "id": "4e0SK0o_xa9v"
   },
   "source": [
    "## Project Description"
   ]
  },
  {
   "cell_type": "markdown",
   "metadata": {},
   "source": [
    "- Give descriptive statistics about relevant fields in the data.\n",
    "- Plot charts to bring out necessary information from the dataset.\n",
    "- State inference with a relevant statement."
   ]
  },
  {
   "cell_type": "code",
   "execution_count": 539,
   "metadata": {
    "id": "BNMeEvrxQLAD"
   },
   "outputs": [],
   "source": [
    "import pandas as pd\n",
    "\n",
    "df = pd.read_csv(\"HRDataset_v14.csv\")"
   ]
  },
  {
   "cell_type": "markdown",
   "metadata": {
    "id": "5WnoxvmaNi4C"
   },
   "source": [
    "## Descriptive Statistics & Plots"
   ]
  },
  {
   "cell_type": "code",
   "execution_count": 540,
   "metadata": {
    "executionInfo": {
     "elapsed": 229,
     "status": "ok",
     "timestamp": 1681065694662,
     "user": {
      "displayName": "Minh Thong Lai",
      "userId": "05577324299846011042"
     },
     "user_tz": -60
    },
    "id": "UuOs012Gn9Ji",
    "scrolled": true
   },
   "outputs": [],
   "source": [
    "# Import descriptive statistics calculation function from Scipy, Matplotlib and Seaborn libraries\n",
    "from scipy.stats import describe\n",
    "import matplotlib.pyplot as plt\n",
    "import seaborn as sns"
   ]
  },
  {
   "cell_type": "markdown",
   "metadata": {},
   "source": [
    "### Descriptive Statistics of Salary "
   ]
  },
  {
   "cell_type": "code",
   "execution_count": 541,
   "metadata": {
    "colab": {
     "base_uri": "https://localhost:8080/",
     "height": 81
    },
    "executionInfo": {
     "elapsed": 439,
     "status": "ok",
     "timestamp": 1681066155433,
     "user": {
      "displayName": "Minh Thong Lai",
      "userId": "05577324299846011042"
     },
     "user_tz": -60
    },
    "id": "-jXe3yYaQBAU",
    "outputId": "5b572660-2ac7-4196-a9b0-0bb7c36d07e2"
   },
   "outputs": [],
   "source": [
    "ds = describe(df[\"Salary\"])._asdict()\n",
    "display(pd.DataFrame([ds], columns=ds.keys()))\n",
    "\n",
    "plt.hist(df[\"Salary\"])\n",
    "plt.title(\"Salary\")\n",
    "plt.show()"
   ]
  },
  {
   "cell_type": "markdown",
   "metadata": {},
   "source": [
    "High kurtosis is an indicator that data has heavy tails or outliers.<br>\n",
    "The salary is not evenly distributed and skewed. <br>\n",
    "The majority of people get paid around 50000-70000. <br>"
   ]
  },
  {
   "cell_type": "markdown",
   "metadata": {},
   "source": [
    "### Salary distribution between Male and Female"
   ]
  },
  {
   "cell_type": "code",
   "execution_count": 542,
   "metadata": {
    "colab": {
     "base_uri": "https://localhost:8080/",
     "height": 81
    },
    "executionInfo": {
     "elapsed": 439,
     "status": "ok",
     "timestamp": 1681066155433,
     "user": {
      "displayName": "Minh Thong Lai",
      "userId": "05577324299846011042"
     },
     "user_tz": -60
    },
    "id": "-jXe3yYaQBAU",
    "outputId": "5b572660-2ac7-4196-a9b0-0bb7c36d07e2",
    "scrolled": true
   },
   "outputs": [],
   "source": [
    "# Get male and female data seperately\n",
    "male = df[df[\"Sex\"].str.contains(\"M\")]\n",
    "female = df[df[\"Sex\"].str.contains(\"F\")]\n",
    "\n",
    "fig = plt.figure()\n",
    "ax1 = fig.add_axes([0, 0, 0.7, 0.7])\n",
    "ax2 = fig.add_axes([1, 0, 0.7, 0.7])\n",
    "\n",
    "\n",
    "ax1.hist(male[\"Salary\"])\n",
    "ax1.set_title(\"Male Salary\")\n",
    "\n",
    "ax2.hist(female[\"Salary\"])\n",
    "ax2.set_title(\"Female Salary\")\n",
    "\n",
    "plt.show()"
   ]
  },
  {
   "cell_type": "markdown",
   "metadata": {},
   "source": [
    "The salary between men and women has the same trend that most of them fall to about 50000-70000.<br>\n",
    "Male employees have slightly higher salaries than female employees in general.<br>\n",
    "There is almost no difference in terms of the gender of salary distribution.<br>"
   ]
  },
  {
   "cell_type": "markdown",
   "metadata": {},
   "source": [
    "### Descriptive Statistics of Engagement Survey"
   ]
  },
  {
   "cell_type": "code",
   "execution_count": 543,
   "metadata": {
    "scrolled": false
   },
   "outputs": [],
   "source": [
    "ds = describe(df[\"EngagementSurvey\"])._asdict()\n",
    "display(pd.DataFrame([ds], columns=ds.keys()))\n",
    "\n",
    "plt.boxplot(df[\"EngagementSurvey\"], vert=False)\n",
    "plt.title(\"Engagement\")\n",
    "plt.show()"
   ]
  },
  {
   "cell_type": "markdown",
   "metadata": {},
   "source": [
    "The Engagement of employees has the mean value of 4.11.<br>\n",
    "So the employee seems very engaged with the work in general.<br>"
   ]
  },
  {
   "cell_type": "markdown",
   "metadata": {},
   "source": [
    "### Descriptive Statistics of Employee Satisfaction"
   ]
  },
  {
   "cell_type": "code",
   "execution_count": 544,
   "metadata": {
    "scrolled": false
   },
   "outputs": [],
   "source": [
    "# Descriptive Statistics of Employee Satisfaction\n",
    "ds = describe(df[\"EmpSatisfaction\"])._asdict()\n",
    "display(pd.DataFrame([ds], columns=ds.keys()))\n",
    "\n",
    "plt.violinplot(df[\"EmpSatisfaction\"])\n",
    "plt.title(\"Employee Satisfaction\")\n",
    "plt.show()"
   ]
  },
  {
   "cell_type": "markdown",
   "metadata": {},
   "source": [
    "As shown, most of the employees have shown quite good job satisfaction due to the mean vlaue of 3.8.<br>"
   ]
  },
  {
   "cell_type": "markdown",
   "metadata": {},
   "source": [
    "### Heatmap of Features correlations"
   ]
  },
  {
   "cell_type": "code",
   "execution_count": 545,
   "metadata": {
    "scrolled": false
   },
   "outputs": [],
   "source": [
    "sns.heatmap(df[[\"MaritalStatusID\", \"GenderID\", \"PerfScoreID\", \"Salary\", \"EngagementSurvey\", \"EmpSatisfaction\", \"SpecialProjectsCount\", \"Absences\"]].corr())\n",
    "plt.show()"
   ]
  },
  {
   "cell_type": "markdown",
   "metadata": {},
   "source": [
    "By looking at the heatmap, we could see that Engagement and Performance Scores are highly correlated.<br>\n",
    "The number of special projects also plays a role in determining an employee's salary.<br>\n",
    "Besides, there's also a correlation between employees' satisfaction with their Performance as well <br>"
   ]
  },
  {
   "cell_type": "markdown",
   "metadata": {
    "id": "imrjMcQqTcEF"
   },
   "source": [
    "### Correlation between the number of Special Projects and Salary of employees"
   ]
  },
  {
   "cell_type": "code",
   "execution_count": 546,
   "metadata": {
    "id": "abug1hygTkql",
    "scrolled": false
   },
   "outputs": [],
   "source": [
    "# Get employees has special projects\n",
    "has_special_projects = df[df[\"SpecialProjectsCount\"] > 0]\n",
    "\n",
    "plt.scatter(has_special_projects[\"SpecialProjectsCount\"], has_special_projects[\"Salary\"])\n",
    "plt.xlabel(\"Special Projects Count\")\n",
    "plt.ylabel(\"Salary\")\n",
    "\n",
    "plt.show()"
   ]
  },
  {
   "cell_type": "markdown",
   "metadata": {},
   "source": [
    "There is a high correlation between the number of special projects and the salary of the employees.<br>\n",
    "The employee who has the highest salary has done 6 special projects.<br>\n",
    "This could be useful for further observation to build a model for Salary prediction.<br>"
   ]
  },
  {
   "cell_type": "markdown",
   "metadata": {},
   "source": [
    "### Correlation between Engagement and Satisfaction of employees and their Performance "
   ]
  },
  {
   "cell_type": "code",
   "execution_count": 547,
   "metadata": {},
   "outputs": [],
   "source": [
    "fig = plt.figure()\n",
    "ax1 = fig.add_axes([0, 0, 0.7, 0.7])\n",
    "ax2 = fig.add_axes([1, 0, 0.7, 0.7])\n",
    "\n",
    "\n",
    "ax1.stem(df[\"PerformanceScore\"], df[\"EngagementSurvey\"])\n",
    "ax1.set_xlabel(\"Performance\")\n",
    "ax1.set_ylabel(\"Engagement\")\n",
    "\n",
    "ax2.stem(df[\"PerformanceScore\"], df[\"EmpSatisfaction\"])\n",
    "ax2.set_xlabel(\"Performance\")\n",
    "ax2.set_ylabel(\"Satisfaction\")\n",
    "\n",
    "plt.show()"
   ]
  },
  {
   "cell_type": "markdown",
   "metadata": {},
   "source": [
    "The group of employees who need improvement and PIP tend to have lower company engagement.<br>\n",
    "On the other hand, with great engagement, it is sure that employees would perform really well in their work.<br>\n",
    "The same pattern happens with satisfaction, the performance seems to be increased with the incline of satisfaction.<br>"
   ]
  },
  {
   "cell_type": "markdown",
   "metadata": {},
   "source": [
    "## Summary"
   ]
  },
  {
   "cell_type": "markdown",
   "metadata": {},
   "source": [
    "- There are outliers in the distribution of Salary, it is also uneven and skewed. \n",
    "- There is very least difference in the distribution of salary by gender, most employees have 50000 to 70000 salaries.\n",
    "- The company has high Engagement and Satisfaction feedback with mean of 4.11 and 3.8.\n",
    "- The Salary of an employee partly depends on the number of special projects that have been done.  \n",
    "- Engagement and Satisfaction could be used to predict their performance, due to high correlations."
   ]
  }
 ],
 "metadata": {
  "colab": {
   "authorship_tag": "ABX9TyN/7VFaQORF0Q97ui0Om9em",
   "mount_file_id": "1h1Uk1F0BA3-373bwNpnww5OQue0h-HZT",
   "provenance": [],
   "toc_visible": true
  },
  "kernelspec": {
   "display_name": "Python 3 (ipykernel)",
   "language": "python",
   "name": "python3"
  },
  "language_info": {
   "codemirror_mode": {
    "name": "ipython",
    "version": 3
   },
   "file_extension": ".py",
   "mimetype": "text/x-python",
   "name": "python",
   "nbconvert_exporter": "python",
   "pygments_lexer": "ipython3",
   "version": "3.11.2"
  }
 },
 "nbformat": 4,
 "nbformat_minor": 1
}
